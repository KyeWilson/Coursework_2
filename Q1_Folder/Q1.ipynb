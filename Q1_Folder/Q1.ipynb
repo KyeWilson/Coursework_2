{
 "cells": [
  {
   "cell_type": "raw",
   "metadata": {},
   "source": [
    "# Question 1: Traditional Approach to Galaxy Zoo Dataset\n",
    "\n",
    "### Objective\n",
    "In this notebook, we solve the Galaxy Zoo classification problem using a traditional machine learning approach, \n",
    "specifically a **Decision Tree Classifier**. The goal is to classify celestial objects into three categories: Galaxy, Star, \n",
    "and Quasar.\n",
    "\n",
    "### Steps Covered\n",
    "1. Dataset loading and exploration.\n",
    "2. Data cleaning and preprocessing.\n",
    "3. Initial model training and evaluation.\n",
    "4. Hyperparameter tuning for model refinement.\n",
    "5. Results and conclusions.\n",
    "\n",
    "### Dataset Overview\n",
    "The Galaxy Zoo dataset contains information about celestial objects. Key columns include:\n",
    "- **Features**: `ra`, `dec`, `u`, `g`, `r`, `i`, `z`, and `redshift`.\n",
    "- **Target**: `class` (Galaxy, Star, Quasar).\n",
    "\n",
    "We explored the dataset to identify missing values, understand the distribution of the target classes, \n",
    "and analyze the redshift distribution.\n",
    "\n",
    "### Data Preprocessing\n",
    "To prepare the data for training:\n",
    "1. Dropped unnecessary columns (`objid`, `specobjid`, etc.).\n",
    "2. Encoded the target column (`class`) into numerical values.\n",
    "3. Normalized the `redshift` column to improve model performance.\n",
    "\n",
    "The cleaned dataset was then split into training (80%) and testing (20%) sets.\n",
    "\n",
    "### Initial Model Training\n",
    "We trained a **Decision Tree Classifier** on the training data without any hyperparameter tuning. The model achieved:\n",
    "- **Accuracy**: 99%\n",
    "- High precision, recall, and F1-scores across all classes.\n",
    "\n",
    "The confusion matrix revealed minor misclassifications.\n",
    "\n",
    "### Model Refinement with Hyperparameter Tuning\n",
    "To improve the model's generalization, we performed hyperparameter tuning using **Grid Search with Cross-Validation**. \n",
    "The best parameters identified were:\n",
    "- `max_depth`: 5\n",
    "- `min_samples_split`: 5\n",
    "- `min_samples_leaf`: 1\n",
    "\n",
    "The refined model achieved:\n",
    "- **Accuracy**: 99%\n",
    "- Further improved metrics for class `1` (Quasars).\n",
    "- Fewer misclassifications compared to the initial model.\n",
    "\n",
    "### Conclusions\n",
    "The Decision Tree Classifier performed exceptionally well on the Galaxy Zoo dataset. Key takeaways include:\n",
    "- The initial model achieved a high accuracy of 99%, demonstrating that a traditional machine learning approach can handle this classification task effectively.\n",
    "- Hyperparameter tuning further refined the model, improving performance metrics and reducing misclassifications.\n",
    "\n",
    "This analysis provides a strong baseline for comparison with neural network approaches in Question 2.\n"
   ]
  },
  {
   "cell_type": "code",
   "execution_count": null,
   "metadata": {},
   "outputs": [],
   "source": [
    "# Data manipulation and visualization\n",
    "import pandas as pd\n",
    "import numpy as np\n",
    "import matplotlib.pyplot as plt\n",
    "import seaborn as sns\n",
    "\n",
    "# Machine learning\n",
    "from sklearn.model_selection import train_test_split\n",
    "from sklearn.tree import DecisionTreeClassifier\n",
    "from sklearn.metrics import accuracy_score, classification_report, confusion_matrix\n"
   ]
  },
  {
   "cell_type": "code",
   "execution_count": null,
   "metadata": {},
   "outputs": [],
   "source": [
    "# Load the dataset\n",
    "file_path = \"Skyserver_SQL2_27_2018 6_51_39 PM.csv\"  # Replace with the correct path if needed\n",
    "data = pd.read_csv(file_path)\n",
    "\n",
    "# Display basic information about the dataset\n",
    "print(data.info())\n",
    "print(data.head())\n"
   ]
  },
  {
   "cell_type": "raw",
   "metadata": {},
   "source": [
    "### Checking for Missing Values\n",
    "Before proceeding with any analysis or model building, it is important to check for missing values in the dataset. \n",
    "Missing data can lead to errors or inaccurate results during model training. \n",
    "\n",
    "In this step, we identify columns with missing values and decide whether to handle them through removal or imputation.\n",
    "\n",
    "### Exploring Feature Distributions\n",
    "To better understand the dataset, we explore the distributions of key features:\n",
    "\n",
    "1. **Class**: This column represents the type of celestial object (e.g., Star, Galaxy, or Quasar). \n",
    "    Understanding the class distribution helps us assess the balance of the dataset.\n",
    "2. **Redshift**: The redshift values provide crucial information about the distance and motion of celestial objects. \n",
    "    Analyzing its distribution can reveal potential preprocessing needs like normalization or binning.\n",
    "\n",
    "Visualizing these distributions will guide us in preparing the data for the machine learning model.\n",
    "\n"
   ]
  },
  {
   "cell_type": "code",
   "execution_count": 6,
   "metadata": {},
   "outputs": [
    {
     "name": "stdout",
     "output_type": "stream",
     "text": [
      "Missing values per column:\n",
      "objid        0\n",
      "ra           0\n",
      "dec          0\n",
      "u            0\n",
      "g            0\n",
      "r            0\n",
      "i            0\n",
      "z            0\n",
      "run          0\n",
      "rerun        0\n",
      "camcol       0\n",
      "field        0\n",
      "specobjid    0\n",
      "class        0\n",
      "redshift     0\n",
      "plate        0\n",
      "mjd          0\n",
      "fiberid      0\n",
      "dtype: int64\n"
     ]
    }
   ],
   "source": [
    "# Check for missing values\n",
    "print(\"Missing values per column:\")\n",
    "print(data.isnull().sum())\n"
   ]
  },
  {
   "cell_type": "code",
   "execution_count": 7,
   "metadata": {},
   "outputs": [
    {
     "name": "stderr",
     "output_type": "stream",
     "text": [
      "/home/idies/miniconda3/envs/py38/lib/python3.8/site-packages/seaborn/_decorators.py:36: FutureWarning: Pass the following variable as a keyword arg: x. From version 0.12, the only valid positional argument will be `data`, and passing other arguments without an explicit keyword will result in an error or misinterpretation.\n",
      "  warnings.warn(\n"
     ]
    },
    {
     "data": {
      "image/png": "[encoded data removed]",
      "text/plain": [
       "<Figure size 432x288 with 1 Axes>"
      ]
     },
     "metadata": {
      "needs_background": "light"
     },
     "output_type": "display_data"
    },
    {
     "data": {
      "image/png": "[encoded data removed]",
      "text/plain": [
       "<Figure size 432x288 with 1 Axes>"
      ]
     },
     "metadata": {
      "needs_background": "light"
     },
     "output_type": "display_data"
    }
   ],
   "source": [
    "import seaborn as sns\n",
    "import matplotlib.pyplot as plt\n",
    "\n",
    "# Distribution of the 'class' column\n",
    "sns.countplot(data['class'])\n",
    "plt.title('Distribution of Object Classes')\n",
    "plt.xlabel('Class')\n",
    "plt.ylabel('Count')\n",
    "plt.show()\n",
    "\n",
    "# Distribution of the 'redshift' column\n",
    "sns.histplot(data['redshift'], bins=30, kde=True)\n",
    "plt.title('Distribution of Redshift Values')\n",
    "plt.xlabel('Redshift')\n",
    "plt.ylabel('Frequency')\n",
    "plt.show()\n"
   ]
  },
  {
   "cell_type": "code",
   "execution_count": 8,
   "metadata": {},
   "outputs": [
    {
     "name": "stdout",
     "output_type": "stream",
     "text": [
      "           ra       dec         u         g         r         i         z  \\\n",
      "0  183.531326  0.089693  19.47406  17.04240  15.94699  15.50342  15.22531   \n",
      "1  183.598371  0.135285  18.66280  17.21449  16.67637  16.48922  16.39150   \n",
      "2  183.680207  0.126185  19.38298  18.19169  17.47428  17.08732  16.80125   \n",
      "3  183.870529  0.049911  17.76536  16.60272  16.16116  15.98233  15.90438   \n",
      "4  183.883288  0.102557  17.55025  16.26342  16.43869  16.55492  16.61326   \n",
      "\n",
      "   run  rerun  camcol  field   class  redshift  class_encoded  \\\n",
      "0  752    301       4    267    STAR -0.000009              2   \n",
      "1  752    301       4    267    STAR -0.000055              2   \n",
      "2  752    301       4    268  GALAXY  0.123111              0   \n",
      "3  752    301       4    269    STAR -0.000111              2   \n",
      "4  752    301       4    269    STAR  0.000590              2   \n",
      "\n",
      "   redshift_normalized  \n",
      "0            -0.369713  \n",
      "1            -0.369831  \n",
      "2            -0.053024  \n",
      "3            -0.369974  \n",
      "4            -0.368171  \n"
     ]
    }
   ],
   "source": [
    "# Drop unnecessary columns\n",
    "columns_to_drop = ['objid', 'specobjid', 'fiberid', 'plate', 'mjd']  # Adjust as needed\n",
    "data = data.drop(columns=columns_to_drop, axis=1)\n",
    "\n",
    "# Encode 'class' column\n",
    "data['class_encoded'] = data['class'].astype('category').cat.codes\n",
    "\n",
    "# Normalize redshift\n",
    "data['redshift_normalized'] = (data['redshift'] - data['redshift'].mean()) / data['redshift'].std()\n",
    "\n",
    "# Preview the cleaned dataset\n",
    "print(data.head())\n"
   ]
  },
  {
   "cell_type": "code",
   "execution_count": 9,
   "metadata": {},
   "outputs": [
    {
     "name": "stdout",
     "output_type": "stream",
     "text": [
      "Training Features Shape: (8000, 8)\n",
      "Testing Features Shape: (2000, 8)\n",
      "Training Target Shape: (8000,)\n",
      "Testing Target Shape: (2000,)\n"
     ]
    }
   ],
   "source": [
    "from sklearn.model_selection import train_test_split\n",
    "\n",
    "# Select features and target\n",
    "X = data[['ra', 'dec', 'u', 'g', 'r', 'i', 'z', 'redshift_normalized']]  # Feature columns\n",
    "y = data['class_encoded']  # Target column\n",
    "\n",
    "# Split into training and testing sets\n",
    "X_train, X_test, y_train, y_test = train_test_split(X, y, test_size=0.2, random_state=42)\n",
    "\n",
    "# Display the shapes of the datasets\n",
    "print(f\"Training Features Shape: {X_train.shape}\")\n",
    "print(f\"Testing Features Shape: {X_test.shape}\")\n",
    "print(f\"Training Target Shape: {y_train.shape}\")\n",
    "print(f\"Testing Target Shape: {y_test.shape}\")\n"
   ]
  },
  {
   "cell_type": "code",
   "execution_count": 10,
   "metadata": {},
   "outputs": [
    {
     "name": "stdout",
     "output_type": "stream",
     "text": [
      "Accuracy: 0.99\n",
      "Classification Report:\n",
      "              precision    recall  f1-score   support\n",
      "\n",
      "           0       0.98      0.99      0.99       996\n",
      "           1       0.95      0.93      0.94       190\n",
      "           2       1.00      1.00      1.00       814\n",
      "\n",
      "    accuracy                           0.99      2000\n",
      "   macro avg       0.98      0.97      0.97      2000\n",
      "weighted avg       0.99      0.99      0.99      2000\n",
      "\n"
     ]
    },
    {
     "data": {
      "image/png": "[encoded data removed]",
      "text/plain": [
       "<Figure size 432x288 with 2 Axes>"
      ]
     },
     "metadata": {
      "needs_background": "light"
     },
     "output_type": "display_data"
    }
   ],
   "source": [
    "from sklearn.tree import DecisionTreeClassifier\n",
    "from sklearn.metrics import accuracy_score, classification_report, confusion_matrix\n",
    "\n",
    "# Initialize the Decision Tree model\n",
    "model = DecisionTreeClassifier(random_state=42)\n",
    "\n",
    "# Train the model\n",
    "model.fit(X_train, y_train)\n",
    "\n",
    "# Make predictions\n",
    "y_pred = model.predict(X_test)\n",
    "\n",
    "# Evaluate the model\n",
    "accuracy = accuracy_score(y_test, y_pred)\n",
    "print(f\"Accuracy: {accuracy:.2f}\")\n",
    "\n",
    "# Classification report\n",
    "print(\"Classification Report:\")\n",
    "print(classification_report(y_test, y_pred))\n",
    "\n",
    "# Confusion matrix\n",
    "conf_matrix = confusion_matrix(y_test, y_pred)\n",
    "sns.heatmap(conf_matrix, annot=True, fmt='d', cmap='Blues')\n",
    "plt.title(\"Confusion Matrix\")\n",
    "plt.xlabel(\"Predicted\")\n",
    "plt.ylabel(\"Actual\")\n",
    "plt.show()\n"
   ]
  },
  {
   "cell_type": "raw",
   "metadata": {},
   "source": [
    "### Model Evaluation: Decision Tree Classifier\n",
    "\n",
    "1. **Accuracy**:  \n",
    "   The Decision Tree achieved an accuracy of **99%** on the test set, which is exceptional. \n",
    "This indicates the model is highly capable of distinguishing between different object classes in the dataset.\n",
    "\n",
    "2. **Precision, Recall, and F1-score**:  \n",
    "   - **Precision**: Measures the proportion of correctly predicted instances out of all predicted instances for each class. \n",
    "    The precision is highest for stars (1.00).\n",
    "   - **Recall**: Measures the proportion of correctly predicted instances out of all actual instances for each class. \n",
    "    The recall is high across all classes, with minor variations for quasars (0.93).\n",
    "   - **F1-score**: Combines precision and recall, providing a balanced measure. All F1-scores are above 0.94.\n",
    "\n",
    "3. **Confusion Matrix**:  \n",
    "   The confusion matrix confirms most predictions were accurate, with only a small number of misclassifications:\n",
    "   - 14 quasars were misclassified as galaxies.\n",
    "   - 8 galaxies were misclassified as quasars.\n"
   ]
  },
  {
   "cell_type": "code",
   "execution_count": 11,
   "metadata": {},
   "outputs": [
    {
     "name": "stdout",
     "output_type": "stream",
     "text": [
      "Best Parameters: {'max_depth': 5, 'min_samples_leaf': 1, 'min_samples_split': 5}\n"
     ]
    }
   ],
   "source": [
    "from sklearn.model_selection import GridSearchCV\n",
    "\n",
    "# Define the parameter grid\n",
    "param_grid = {\n",
    "    'max_depth': [5, 10, 15, 20, None],\n",
    "    'min_samples_split': [2, 5, 10],\n",
    "    'min_samples_leaf': [1, 2, 4]\n",
    "}\n",
    "\n",
    "# Initialize the Decision Tree model\n",
    "dt_model = DecisionTreeClassifier(random_state=42)\n",
    "\n",
    "# Perform Grid Search with cross-validation\n",
    "grid_search = GridSearchCV(estimator=dt_model, param_grid=param_grid, cv=5, scoring='accuracy', n_jobs=-1)\n",
    "grid_search.fit(X_train, y_train)\n",
    "\n",
    "# Get the best parameters and the best model\n",
    "best_params = grid_search.best_params_\n",
    "best_model = grid_search.best_estimator_\n",
    "\n",
    "print(f\"Best Parameters: {best_params}\")\n"
   ]
  },
  {
   "cell_type": "code",
   "execution_count": 12,
   "metadata": {},
   "outputs": [
    {
     "name": "stdout",
     "output_type": "stream",
     "text": [
      "Refined Model Accuracy: 0.99\n",
      "Classification Report (Refined Model):\n",
      "              precision    recall  f1-score   support\n",
      "\n",
      "           0       0.98      0.99      0.99       996\n",
      "           1       0.98      0.93      0.95       190\n",
      "           2       0.99      1.00      0.99       814\n",
      "\n",
      "    accuracy                           0.99      2000\n",
      "   macro avg       0.98      0.97      0.98      2000\n",
      "weighted avg       0.99      0.99      0.99      2000\n",
      "\n"
     ]
    },
    {
     "data": {
      "image/png": "[encoded data removed]",
      "text/plain": [
       "<Figure size 432x288 with 2 Axes>"
      ]
     },
     "metadata": {
      "needs_background": "light"
     },
     "output_type": "display_data"
    }
   ],
   "source": [
    "# Make predictions with the refined model\n",
    "y_pred_refined = best_model.predict(X_test)\n",
    "\n",
    "# Evaluate the refined model\n",
    "accuracy_refined = accuracy_score(y_test, y_pred_refined)\n",
    "print(f\"Refined Model Accuracy: {accuracy_refined:.2f}\")\n",
    "\n",
    "# Classification report\n",
    "print(\"Classification Report (Refined Model):\")\n",
    "print(classification_report(y_test, y_pred_refined))\n",
    "\n",
    "# Confusion matrix\n",
    "conf_matrix_refined = confusion_matrix(y_test, y_pred_refined)\n",
    "sns.heatmap(conf_matrix_refined, annot=True, fmt='d', cmap='Blues')\n",
    "plt.title(\"Confusion Matrix (Refined Model)\")\n",
    "plt.xlabel(\"Predicted\")\n",
    "plt.ylabel(\"Actual\")\n",
    "plt.show()\n"
   ]
  },
  {
   "cell_type": "raw",
   "metadata": {},
   "source": [
    "### Refining the Decision Tree Classifier\n",
    "To improve the performance and generalization of the Decision Tree, we performed **hyperparameter tuning** using Grid Search \n",
    "with Cross-Validation. The following parameters were optimized:\n",
    "1. `max_depth`: Controls the maximum depth of the tree to prevent overfitting.\n",
    "2. `min_samples_split`: The minimum number of samples required to split a node.\n",
    "3. `min_samples_leaf`: The minimum number of samples required to be at a leaf node.\n",
    "\n",
    "#### Best Parameters\n",
    "The Grid Search returned the optimal parameters:\n",
    "- **max_depth**: 5\n",
    "- **min_samples_split**: 5\n",
    "- **min_samples_leaf**: 1\n",
    "\n",
    "#### Results\n",
    "The refined model achieved an accuracy of **99%**, consistent with the initial model. However, the refined parameters \n",
    "resulted in:\n",
    "- Improved classification metrics, especially for class `1` (Quasars).\n",
    "- Reduced misclassifications, as shown in the updated confusion matrix.\n"
   ]
  }
 ],
 "metadata": {
  "kernelspec": {
   "display_name": "Python 3.8 (py38)",
   "language": "python",
   "name": "py38"
  },
  "language_info": {
   "codemirror_mode": {
    "name": "ipython",
    "version": 3
   },
   "file_extension": ".py",
   "mimetype": "text/x-python",
   "name": "python",
   "nbconvert_exporter": "python",
   "pygments_lexer": "ipython3",
   "version": "3.8.5"
  }
 },
 "nbformat": 4,
 "nbformat_minor": 4
}
