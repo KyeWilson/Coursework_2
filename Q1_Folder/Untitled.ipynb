{
 "cells": [
  {
   "cell_type": "markdown",
   "metadata": {},
   "source": [
    "# Q1: Decision Tree Classifier for Galaxy Zoo Dataset\n",
    "\n",
    "### Objective\n",
    "In this tutorial, we will:\n",
    "1. Understand how to load and explore a dataset.\n",
    "2. Clean and preprocess the Galaxy Zoo dataset.\n",
    "3. Build and evaluate a Decision Tree Classifier to classify celestial objects.\n",
    "\n",
    "This tutorial is beginner-friendly and assumes no prior experience with Jupyter Notebooks."
   ]
  },
  {
   "cell_type": "markdown",
   "metadata": {},
   "source": [
    "### Getting Started with Jupyter Notebook\n",
    "- A **Jupyter Notebook** is an interactive environment where you can write and run code in small chunks called \"cells.\"\n",
    "- You can add two types of cells:\n",
    "  1. **Code cells**: For Python code.\n",
    "  2. **Markdown cells**: For text, headings, and explanations (like this one).\n",
    "- Click on a cell to edit it. Press `Shift + Enter` to run the cell.\n",
    "\n",
    "Let's get started!"
   ]
  },
  {
   "cell_type": "markdown",
   "metadata": {},
   "source": [
    "### Dataset Overview\n",
    "The **Galaxy Zoo** dataset contains information about celestial objects. Key features include:\n",
    "- **Features**: RA, DEC, magnitudes (`u`, `g`, `r`, `i`, `z`), and redshift.\n",
    "- **Target**: Object classification (`Galaxy`, `Star`, or `Quasar`).\n",
    "\n",
    "We will use this dataset to build a Decision Tree Classifier to predict the type of celestial object."
   ]
  },
  {
   "cell_type": "markdown",
   "metadata": {},
   "source": [
    "### Step 1: Loading the Dataset\n",
    "To begin, ensure the dataset file `Skyserver_SQL2_27_2018 6_51_39 PM.csv` is in the same folder as this notebook.\n",
    "\n",
    "In a code cell, write the following code to load the dataset:\n",
    "```python\n",
    "# Import necessary libraries\n",
    "import pandas as pd\n",
    "\n",
    "# Load the dataset\n",
    "file_path = \"Skyserver_SQL2_27_2018 6_51_39 PM.csv\"  # Ensure this path is correct\n",
    "data = pd.read_csv(file_path)\n",
    "\n",
    "# Display the first 5 rows of the dataset\n",
    "data.head()"
   ]
  },
  {
   "cell_type": "markdown",
   "metadata": {},
   "source": [
    "What do we observe?\n",
    "\n",
    "The dataset contains features like ra, dec, u, g, r, i, z, and redshift.\n",
    "The target column (class) specifies the object type: Galaxy, Star, or Quasar.\n",
    "\n",
    "![Basic Information of the Dataset](DATASET.png)\n"
   ]
  },
  {
   "cell_type": "code",
   "execution_count": null,
   "metadata": {},
   "outputs": [],
   "source": []
  }
 ],
 "metadata": {
  "kernelspec": {
   "display_name": "R 4.0.3",
   "language": "R",
   "name": "ir"
  },
  "language_info": {
   "codemirror_mode": "r",
   "file_extension": ".r",
   "mimetype": "text/x-r-source",
   "name": "R",
   "pygments_lexer": "r",
   "version": "4.0.3"
  }
 },
 "nbformat": 4,
 "nbformat_minor": 4
}
